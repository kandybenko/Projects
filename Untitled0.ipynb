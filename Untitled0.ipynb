{
  "nbformat": 4,
  "nbformat_minor": 0,
  "metadata": {
    "colab": {
      "provenance": [],
      "authorship_tag": "ABX9TyOJw1wCX5sQw/h0nfh/PD0Q",
      "include_colab_link": true
    },
    "kernelspec": {
      "name": "python3",
      "display_name": "Python 3"
    },
    "language_info": {
      "name": "python"
    }
  },
  "cells": [
    {
      "cell_type": "markdown",
      "metadata": {
        "id": "view-in-github",
        "colab_type": "text"
      },
      "source": [
        "<a href=\"https://colab.research.google.com/github/kandybenko/Projects/blob/main/Untitled0.ipynb\" target=\"_parent\"><img src=\"https://colab.research.google.com/assets/colab-badge.svg\" alt=\"Open In Colab\"/></a>"
      ]
    },
    {
      "cell_type": "code",
      "execution_count": null,
      "metadata": {
        "colab": {
          "base_uri": "https://localhost:8080/"
        },
        "id": "KUK5XowouMAD",
        "outputId": "bc17f2b3-0a9a-410e-c616-7f02066ec3a2"
      },
      "outputs": [
        {
          "output_type": "stream",
          "name": "stdout",
          "text": [
            "Это мое первое кодовое поле\n"
          ]
        }
      ],
      "source": [
        "print('Это мое первое кодовое поле')"
      ]
    },
    {
      "cell_type": "markdown",
      "source": [
        "Это мое первое текстовое поле"
      ],
      "metadata": {
        "id": "2F0P0rJ9u0no"
      }
    }
  ]
}